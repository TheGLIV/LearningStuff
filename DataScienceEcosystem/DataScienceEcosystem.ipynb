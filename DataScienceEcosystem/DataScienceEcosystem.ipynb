{
 "cells": [
  {
   "cell_type": "markdown",
   "id": "ade3fdf7",
   "metadata": {},
   "source": [
    "# Data Science Tools and Ecosystem"
   ]
  },
  {
   "cell_type": "markdown",
   "id": "0d3795b3",
   "metadata": {},
   "source": [
    "In this notebook, Data Science Tools and Ecosystem are summarized."
   ]
  },
  {
   "cell_type": "markdown",
   "id": "35ce35a0",
   "metadata": {},
   "source": [
    "**Objectives:**\n",
    "- Listing popular languages used for Data Science\n",
    "- Listing commonly used libraries used in Data Science\n",
    "- Data Science Tools in a table \n",
    "- Evaluating arithmetic expressions\n",
    "- Converting minutes to hours"
   ]
  },
  {
   "cell_type": "markdown",
   "id": "38aadf79",
   "metadata": {},
   "source": [
    "Some of the popular languages that Data Scientists use are:\n",
    "1. Python\n",
    "2. R\n",
    "3. Scala\n",
    "4. SQL"
   ]
  },
  {
   "cell_type": "markdown",
   "id": "2db09b3c",
   "metadata": {},
   "source": [
    "Some of the commonly used libraries used by Data Scientists include:\n",
    "1. numpy\n",
    "2. pandas\n",
    "3. matplotlib\n",
    "4. scikit-learn\n",
    "5. seaborn\n",
    "6. ggplot"
   ]
  },
  {
   "cell_type": "markdown",
   "id": "da88988f",
   "metadata": {},
   "source": [
    "| Data Science Tools |\n",
    "|--------------------|\n",
    "| Spyder|\n",
    "| JupyterLab |\n",
    "| VS Code |\n",
    "| R Studio |"
   ]
  },
  {
   "cell_type": "markdown",
   "id": "7877a45b",
   "metadata": {},
   "source": [
    "### Below are a few examples of evaluating arithmetic expressions in Python"
   ]
  },
  {
   "cell_type": "code",
   "execution_count": 1,
   "id": "2892e76c",
   "metadata": {},
   "outputs": [
    {
     "data": {
      "text/plain": [
       "17"
      ]
     },
     "execution_count": 1,
     "metadata": {},
     "output_type": "execute_result"
    }
   ],
   "source": [
    "# This a simple arithmetic expression to multiply then add integers\n",
    "(3*4)+5"
   ]
  },
  {
   "cell_type": "code",
   "execution_count": 2,
   "id": "540fbc7d",
   "metadata": {},
   "outputs": [
    {
     "name": "stdout",
     "output_type": "stream",
     "text": [
      "200 minutes are equal to  3.3333333333333335 hours.\n"
     ]
    }
   ],
   "source": [
    "# This will convert 200 minutes to hours by diving by 60\n",
    "print( \"200 minutes are equal to \", 200/60, \"hours.\")"
   ]
  },
  {
   "cell_type": "markdown",
   "id": "f84b5184",
   "metadata": {},
   "source": [
    "## Author\n",
    "Prashant Yadav"
   ]
  },
  {
   "cell_type": "markdown",
   "id": "53b09289",
   "metadata": {},
   "source": []
  }
 ],
 "metadata": {
  "kernelspec": {
   "display_name": "Python 3",
   "language": "python",
   "name": "python3"
  },
  "language_info": {
   "codemirror_mode": {
    "name": "ipython",
    "version": 3
   },
   "file_extension": ".py",
   "mimetype": "text/x-python",
   "name": "python",
   "nbconvert_exporter": "python",
   "pygments_lexer": "ipython3",
   "version": "3.12.10"
  }
 },
 "nbformat": 4,
 "nbformat_minor": 5
}
